{
 "cells": [
  {
   "cell_type": "code",
   "execution_count": 1,
   "id": "6ad693de",
   "metadata": {},
   "outputs": [],
   "source": [
    "from faker import Faker \n",
    "import pandas as pd \n",
    "import datetime\n",
    "import random\n",
    "import numpy as np"
   ]
  },
  {
   "cell_type": "code",
   "execution_count": 2,
   "id": "21fe906a",
   "metadata": {},
   "outputs": [],
   "source": [
    "# only possible in my env\n",
    "import sqlite3"
   ]
  },
  {
   "cell_type": "code",
   "execution_count": 3,
   "id": "094d465a",
   "metadata": {},
   "outputs": [],
   "source": [
    "random.seed(10)"
   ]
  },
  {
   "cell_type": "code",
   "execution_count": 4,
   "id": "9f774a43",
   "metadata": {},
   "outputs": [],
   "source": [
    "def random_users(no_users):\n",
    "    fake = Faker()\n",
    "    Faker.seed(0)\n",
    "    # generate user data according to structure\n",
    "    rand_user = pd.DataFrame([{'firstname':fake.first_name(), \n",
    "                                'lastname':fake.last_name(),\n",
    "                                'email':fake.email(),\n",
    "                                'firstlogin' : fake.date_between(datetime.date(2020, 1, 1))\n",
    "                               } for _ in range(no_users)]).reset_index().rename({'index':'id'}, axis = 1)\n",
    "    return users_with_accounts_dupilcation(rand_user)\n",
    "\n",
    "\n",
    "def users_with_accounts_dupilcation(rand_df):   \n",
    "    fake = Faker()\n",
    "    # obtain sample & keep name & email\n",
    "    rand_sample = rand_df.sample(random.randint(0, len(rand_df)//10), replace = True, random_state = 42).loc[:, ['firstname', 'lastname', 'email']]\n",
    "    \n",
    "    # generate date of login\n",
    "    rand_sample['firstlogin'] = [fake.date_between(datetime.date(2020, 1, 1)) for i in range(len(rand_sample))]\n",
    "    \n",
    "    # append and sort according to first login\n",
    "    rand_sample = rand_df.append(rand_sample).sort_values(by = 'firstlogin')\n",
    "    \n",
    "    # adjust the id accordingly\n",
    "    rand_sample['id'] = list(range(len(rand_sample)))\n",
    "    rand_sample.reset_index(drop = True, inplace = True)\n",
    "    return rand_sample[['id', 'firstname', 'lastname', 'email', 'firstlogin']]\n",
    "\n",
    "\n",
    "def create_order(userid,ordertime):\n",
    "    fake = Faker()\n",
    "    '''returns a dict containing one order\n",
    "    this might have been a funny recursive task but I wont do it here as i want to finish'''\n",
    "\n",
    "    u_order = {\"userid\" : userid,\n",
    "           \"invoice_amount\" : round(random.uniform(30,150), 2),\n",
    "           \"ordertime\" : fake.date_between(ordertime),\n",
    "           \"orderstatus\" : random.randint(0,1)}    \n",
    "    return u_order\n",
    "                                              \n",
    "                                              \n",
    "\n",
    "def order_times_customer(df):\n",
    "    fake = Faker()\n",
    "    Faker.seed(0)\n",
    "    ''' I do ignore the last logintime here as it is not really relevant tbh\n",
    "    \n",
    "    I could have modualized this function further but it should be straigt forward '''\n",
    "    \n",
    "    # obtain no_account_customer & account_customer for the order generation\n",
    "    acc_count = df.groupby(by = \"email\").agg({'email': \"count\"}).rename( {'email':'count'}, axis = 1).sort_values(by = \"count\").reset_index()\n",
    "                              \n",
    "    df_orders = pd.DataFrame(columns = ['userid',\n",
    "                                       'invoice_amount',\n",
    "                                       'ordertime',\n",
    "                                       'orderstatus'])\n",
    "    # for acc_customers call the create_order function randomly between 0 & 5 times and create as many orders  \n",
    "    # for non_acc_customers call the create_order function as often as they ordered \n",
    "    \n",
    "    for _,u_r in acc_count.iterrows():\n",
    "                     \n",
    "        if u_r[1] == 1:\n",
    "            # giving chance of customer not being in the orders\n",
    "            for i in range(0,random.randint(0,5)):   \n",
    "                useridinput_id = df[df.email == u_r[0]]['id'].values[0]\n",
    "                useridinput_date = pd.to_datetime(df[df.email == u_r[0]]['firstlogin'].values[0])\n",
    "                df_orders = df_orders.append(create_order(useridinput_id,useridinput_date), \n",
    "                                             ignore_index = True)                              \n",
    "                           \n",
    "        else:\n",
    "            for useridinput in df[df.email == u_r[0]]['id'].values:\n",
    "                useridinput_date = pd.to_datetime(df[df.id == useridinput]['firstlogin'].values[0])\n",
    "                df_orders = df_orders.append(create_order(useridinput,useridinput_date), ignore_index = True)\n",
    "                              \n",
    "                              \n",
    "    return df_orders.reset_index().rename(columns ={'index':'id'})"
   ]
  },
  {
   "cell_type": "code",
   "execution_count": 5,
   "id": "a2fc2c47",
   "metadata": {},
   "outputs": [],
   "source": [
    "df_random_users = random_users(500)"
   ]
  },
  {
   "cell_type": "code",
   "execution_count": 6,
   "id": "4024bcc7",
   "metadata": {},
   "outputs": [],
   "source": [
    "df_random_orders = order_times_customer(df_random_users)"
   ]
  },
  {
   "cell_type": "code",
   "execution_count": 7,
   "id": "e5e97931",
   "metadata": {},
   "outputs": [],
   "source": [
    "acquired_users = pd.merge(left= df_random_users, \n",
    "                          right = df_random_orders, \n",
    "                          left_on = 'id',\n",
    "                          right_on = 'userid', \n",
    "                          how = 'inner')"
   ]
  },
  {
   "cell_type": "code",
   "execution_count": 8,
   "id": "9f56faaa",
   "metadata": {},
   "outputs": [],
   "source": [
    "acquired_users = acquired_users[acquired_users.orderstatus == 1]\n",
    "df_random_orders['ordertime'] = pd.to_datetime(df_random_orders.ordertime)\n",
    "df_random_orders['order_period']=df_random_orders.ordertime.dt.to_period('m')\n",
    "orders = df_random_orders.groupby(by = 'order_period').agg({'order_period':'count'}).rename(columns = {'order_period':'Total orders'}).reset_index()\n"
   ]
  },
  {
   "cell_type": "code",
   "execution_count": 12,
   "id": "9f51f926",
   "metadata": {},
   "outputs": [],
   "source": [
    "acquired_users['ordertime'] = pd.to_datetime(acquired_users.ordertime)\n",
    "acquired_users['cohort'] = acquired_users.groupby('userid')['ordertime'].transform('min').dt.to_period('m')\n",
    "newcustomers = acquired_users.drop_duplicates(subset = ['email','cohort']).groupby(by = 'cohort').agg({'cohort':'count'}).rename(columns = {'cohort':'New customers'}).reset_index()"
   ]
  },
  {
   "cell_type": "code",
   "execution_count": 24,
   "id": "e0667913",
   "metadata": {},
   "outputs": [],
   "source": [
    "python_answer = pd.merge(left = newcustomers,\n",
    "        right = orders,\n",
    "        left_on = 'cohort',\n",
    "        right_on = \"order_period\").drop('order_period', axis = 1).rename(columns = {'cohort':\"month\"})\n"
   ]
  },
  {
   "cell_type": "code",
   "execution_count": null,
   "id": "e980be77",
   "metadata": {},
   "outputs": [],
   "source": []
  },
  {
   "cell_type": "code",
   "execution_count": 27,
   "id": "109940f2",
   "metadata": {},
   "outputs": [],
   "source": [
    "df_random_orders.drop(columns = \"order_period\", inplace = True)"
   ]
  },
  {
   "cell_type": "markdown",
   "id": "52582a5a",
   "metadata": {},
   "source": [
    "# load the data into the database"
   ]
  },
  {
   "cell_type": "code",
   "execution_count": 30,
   "id": "bcce0920",
   "metadata": {},
   "outputs": [],
   "source": [
    "# Create a SQL connection to our SQLite database\n",
    "con = sqlite3.connect(\"/home/angelo/repos/KORO_application_files/korotest.db\")\n",
    "cur = con.cursor()\n",
    "\n",
    "# Write the new DataFrame to a new SQLite table\n",
    "df_random_users.to_sql(\"users\", con, if_exists=\"replace\", index=False)\n",
    "df_random_orders.to_sql(\"orders\", con, if_exists=\"replace\", index=False)"
   ]
  },
  {
   "cell_type": "code",
   "execution_count": null,
   "id": "d9caeb64",
   "metadata": {},
   "outputs": [],
   "source": []
  },
  {
   "cell_type": "code",
   "execution_count": null,
   "id": "6f4d673d",
   "metadata": {},
   "outputs": [],
   "source": []
  }
 ],
 "metadata": {
  "kernelspec": {
   "display_name": "Python 3 (ipykernel)",
   "language": "python",
   "name": "python3"
  },
  "language_info": {
   "codemirror_mode": {
    "name": "ipython",
    "version": 3
   },
   "file_extension": ".py",
   "mimetype": "text/x-python",
   "name": "python",
   "nbconvert_exporter": "python",
   "pygments_lexer": "ipython3",
   "version": "3.9.7"
  }
 },
 "nbformat": 4,
 "nbformat_minor": 5
}
